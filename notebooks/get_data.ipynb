{
 "cells": [
  {
   "cell_type": "code",
   "execution_count": 72,
   "metadata": {},
   "outputs": [],
   "source": [
    "# Testing components\n",
    "from xml.dom import minidom\n",
    "\n",
    "def print_html(element) -> None: \n",
    "    text = element.get_attribute('outerHTML')\n",
    "    pretty_html = minidom.parseString(text).toprettyxml()\n",
    "    print(pretty_html)"
   ]
  },
  {
   "cell_type": "code",
   "execution_count": 73,
   "metadata": {},
   "outputs": [
    {
     "name": "stdout",
     "output_type": "stream",
     "text": [
      "Cookies valid. Got in the right chart.\n"
     ]
    }
   ],
   "source": [
    "adv_url = 'https://it.tradingview.com/chart/4FNrxQbz/?symbol=OANDA%3AEURUSD'\n",
    "\n",
    "import sys\n",
    "sys.path.append('../src')  # Add the 'src' directory to the list of paths to search for modules\n",
    "\n",
    "from TV.src.tradingview import TradingView\n",
    "\n",
    "\n",
    "tv = TradingView()\n",
    "tv.load_chart_with_cookies()\n",
    "tv.get_layout(adv_url)"
   ]
  },
  {
   "cell_type": "code",
   "execution_count": 74,
   "metadata": {},
   "outputs": [],
   "source": [
    "# Testing step\n",
    "self = tv"
   ]
  },
  {
   "cell_type": "code",
   "execution_count": null,
   "metadata": {},
   "outputs": [],
   "source": [
    "import ast\n",
    "\n",
    "# Your list\n",
    "original_list = ['EURUSD', 'Vol', 'Ven_HARSI']\n",
    "\n",
    "# Convert list to string\n",
    "list_str = str(original_list)\n",
    "\n",
    "# Convert string back to list\n",
    "converted_list = ast.literal_eval(list_str)"
   ]
  },
  {
   "cell_type": "code",
   "execution_count": 85,
   "metadata": {},
   "outputs": [],
   "source": [
    "asset = 'OANDA:EURUSD'\n",
    "adv_url = 'https://it.tradingview.com/chart/4FNrxQbz/?symbol='"
   ]
  },
  {
   "cell_type": "code",
   "execution_count": 86,
   "metadata": {},
   "outputs": [
    {
     "data": {
      "text/plain": [
       "'https://it.tradingview.com/chart/4FNrxQbz/?symbol=OANDA:EURUSD'"
      ]
     },
     "execution_count": 86,
     "metadata": {},
     "output_type": "execute_result"
    }
   ],
   "source": [
    "adv_url + asset"
   ]
  },
  {
   "cell_type": "code",
   "execution_count": 92,
   "metadata": {},
   "outputs": [
    {
     "data": {
      "text/plain": [
       "[1.0, 2.0, 3.0, 4.0]"
      ]
     },
     "execution_count": 92,
     "metadata": {},
     "output_type": "execute_result"
    }
   ],
   "source": [
    "test = ['1', '2', '3', '4']\n",
    "[float(i) for i in test]"
   ]
  },
  {
   "cell_type": "code",
   "execution_count": 96,
   "metadata": {},
   "outputs": [],
   "source": [
    "test = ['−1.2', '1.3']\n",
    "test = [float(i.replace('−', '-')) for i in test]"
   ]
  },
  {
   "cell_type": "code",
   "execution_count": 107,
   "metadata": {},
   "outputs": [
    {
     "name": "stdout",
     "output_type": "stream",
     "text": [
      "{'EURUSD': {'Apertura': [1.05724, 1.05724, 1.05724]}}\n"
     ]
    }
   ],
   "source": [
    "test = {'EURUSD': {'Apertura': [1.05724, 1.05724]}}\n",
    "test = {'EURUSD': {'Apertura': [1.05724, 1.05724]}}\n",
    "test['EURUSD']['Apertura'] += 1.05724\n",
    "print(test)"
   ]
  },
  {
   "cell_type": "code",
   "execution_count": 102,
   "metadata": {},
   "outputs": [
    {
     "data": {
      "text/plain": [
       "{'EURUSD': {'Apertura': [1.05724, 1.05724]}}"
      ]
     },
     "execution_count": 102,
     "metadata": {},
     "output_type": "execute_result"
    }
   ],
   "source": [
    "test"
   ]
  }
 ],
 "metadata": {
  "kernelspec": {
   "display_name": "scraping",
   "language": "python",
   "name": "python3"
  },
  "language_info": {
   "codemirror_mode": {
    "name": "ipython",
    "version": 3
   },
   "file_extension": ".py",
   "mimetype": "text/x-python",
   "name": "python",
   "nbconvert_exporter": "python",
   "pygments_lexer": "ipython3",
   "version": "3.11.5"
  },
  "orig_nbformat": 4
 },
 "nbformat": 4,
 "nbformat_minor": 2
}

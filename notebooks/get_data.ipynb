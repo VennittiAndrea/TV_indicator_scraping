{
 "cells": [
  {
   "cell_type": "code",
   "execution_count": 72,
   "metadata": {},
   "outputs": [],
   "source": [
    "# Testing components\n",
    "from xml.dom import minidom\n",
    "\n",
    "def print_html(element) -> None: \n",
    "    text = element.get_attribute('outerHTML')\n",
    "    pretty_html = minidom.parseString(text).toprettyxml()\n",
    "    print(pretty_html)"
   ]
  },
  {
   "cell_type": "code",
   "execution_count": 73,
   "metadata": {},
   "outputs": [
    {
     "name": "stdout",
     "output_type": "stream",
     "text": [
      "Cookies valid. Got in the right chart.\n"
     ]
    }
   ],
   "source": [
    "adv_url = 'https://it.tradingview.com/chart/4FNrxQbz/?symbol=OANDA%3AEURUSD'\n",
    "\n",
    "import sys\n",
    "sys.path.append('../src')  # Add the 'src' directory to the list of paths to search for modules\n",
    "\n",
    "from TV.src.tradingview import TradingView\n",
    "\n",
    "\n",
    "tv = TradingView()\n",
    "tv.load_chart_with_cookies()\n",
    "tv.get_layout(adv_url)"
   ]
  },
  {
   "cell_type": "code",
   "execution_count": 74,
   "metadata": {},
   "outputs": [],
   "source": [
    "# Testing step\n",
    "self = tv"
   ]
  },
  {
   "cell_type": "code",
   "execution_count": 75,
   "metadata": {},
   "outputs": [],
   "source": [
    "from typing import Dict, List\n",
    "# TODO: VARIABLES TO ADD TO THE FILE\n"
   ]
  },
  {
   "cell_type": "code",
   "execution_count": 76,
   "metadata": {},
   "outputs": [],
   "source": [
    "indicators_name = ['EURUSD', 'Vol', 'Ven_HARSI']"
   ]
  },
  {
   "cell_type": "code",
   "execution_count": 80,
   "metadata": {},
   "outputs": [],
   "source": [
    "def _add_to_dict(self, name, value) -> None:\n",
    "        if name in self.data_dict:\n",
    "            self.data_dict[name].append(value)\n",
    "        else:\n",
    "            self.data_dict[name] = [value]\n",
    "\n",
    "def _extract_values(self, values) -> None: \n",
    "    # Extract indicator name components with related values\n",
    "    values_dict : dict = {}\n",
    "    for i in range(0,len(values),1):\n",
    "        name = values[i].find_element('xpath', \".//div[contains(@class, 'itemTitle-')]\").text\n",
    "        value = values[i].find_element('xpath', \".//div/span\").text\n",
    "        _add_to_dict(self, name, value)"
   ]
  },
  {
   "cell_type": "code",
   "execution_count": 81,
   "metadata": {},
   "outputs": [],
   "source": [
    "# Check if data window is open, otherwise open it\n",
    "check_datawindow = self.driver.find_elements('xpath', \"//div[contains(@class, 'content-')]//button[@aria-label = 'Finestra dati'][@aria-pressed='false']\")\n",
    "if len(check_datawindow) > 0:\n",
    "    print('Data window is closed')\n",
    "    check_datawindow.click() \n",
    "self.data_dict : dict = {}\n",
    "try: \n",
    "    components = self.driver.find_elements('xpath', \"//div[contains(@class, 'chart-data-window')]//div[contains(@class, 'view-')][contains(@class, 'hoverEnable-') and not(contains(@class, 'hidden-'))]\")\n",
    "except IndexError as e:\n",
    "    print(f'No active indicators')\n",
    "    raise e\n",
    "# First data component is ohcl + variation from previous bar + volume info \n",
    "# Automatic reading of data components\n",
    "for k in range(0,len(components),1): \n",
    "    indicator_name = components[k].find_element('xpath', \".//div[contains(@class, 'header-')]//span[contains(@class, 'headerTitle-')]\").text.split(' ')[0]\n",
    "    if indicator_name in indicators_name: \n",
    "        if 'hidden-' in components[k].get_attribute('class'): \n",
    "            components[k].find_element_by_xpath(\".//span[contains(@class, 'button-')]\").click()\n",
    "        self.data_dict[indicator_name] = {}\n",
    "        values = components[k].find_elements('xpath', './/div[contains(@class, \"values-\")]/div')\n",
    "        _extract_values(self, values)"
   ]
  },
  {
   "cell_type": "code",
   "execution_count": 82,
   "metadata": {},
   "outputs": [
    {
     "data": {
      "text/plain": [
       "{'EURUSD': {},\n",
       " 'Apertura': ['1.05808'],\n",
       " 'Massimo': ['1.05828'],\n",
       " 'Minimo': ['1.05700'],\n",
       " 'Chiusura': ['1.05735'],\n",
       " 'Variazione': ['−0.00073 (−0.07%)'],\n",
       " 'Vol': {},\n",
       " 'Volume': ['4.966K'],\n",
       " 'Volume MA': ['3.468K'],\n",
       " 'Ven_HARSI': {},\n",
       " 'Ven_Heikin Ashi RSI Oscillator (14, 1, ohlc4, 21, 3, 3, 14, 80, 20, 30, -20, -30, 21, 20, 12)': ['13.95',\n",
       "  '13.95',\n",
       "  '−0.51',\n",
       "  '0.51'],\n",
       " 'Close of Channel': ['15.10'],\n",
       " 'Hull MA': ['18.93']}"
      ]
     },
     "execution_count": 82,
     "metadata": {},
     "output_type": "execute_result"
    }
   ],
   "source": [
    "self.data_dict"
   ]
  }
 ],
 "metadata": {
  "kernelspec": {
   "display_name": "scraping",
   "language": "python",
   "name": "python3"
  },
  "language_info": {
   "codemirror_mode": {
    "name": "ipython",
    "version": 3
   },
   "file_extension": ".py",
   "mimetype": "text/x-python",
   "name": "python",
   "nbconvert_exporter": "python",
   "pygments_lexer": "ipython3",
   "version": "3.11.5"
  },
  "orig_nbformat": 4
 },
 "nbformat": 4,
 "nbformat_minor": 2
}
